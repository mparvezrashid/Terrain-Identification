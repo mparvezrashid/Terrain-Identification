{
  "nbformat": 4,
  "nbformat_minor": 0,
  "metadata": {
    "colab": {
      "name": "Terrain_Identification.ipynb",
      "provenance": [],
      "collapsed_sections": []
    },
    "kernelspec": {
      "name": "python3",
      "display_name": "Python 3"
    }
  },
  "cells": [
    {
      "cell_type": "code",
      "metadata": {
        "colab": {
          "base_uri": "https://localhost:8080/"
        },
        "id": "V7vY8Yt2chDJ",
        "outputId": "1c249c1a-3fc2-47de-8371-cf331355a82c"
      },
      "source": [
        "import numpy as np\n",
        "import pandas as pd\n",
        "import os\n",
        "import matplotlib.pyplot as plt\n",
        "from collections import Counter\n",
        "\n",
        "from imblearn.over_sampling import SMOTE\n",
        "from imblearn.under_sampling import RandomUnderSampler\n",
        "from matplotlib import pyplot\n",
        "from numpy import where\n",
        "from sklearn.preprocessing import LabelEncoder\n",
        "\n",
        "from sklearn.model_selection import train_test_split\n",
        "from sklearn import datasets\n",
        "from sklearn import svm\n",
        "from sklearn.metrics import confusion_matrix \n",
        "from sklearn.ensemble import RandomForestClassifier\n",
        "from sklearn.metrics import confusion_matrix, accuracy_score, plot_confusion_matrix \n",
        "from sklearn.naive_bayes import GaussianNB"
      ],
      "execution_count": 3,
      "outputs": [
        {
          "output_type": "stream",
          "text": [
            "/usr/local/lib/python3.7/dist-packages/sklearn/externals/six.py:31: FutureWarning: The module is deprecated in version 0.21 and will be removed in version 0.23 since we've dropped support for Python 2.7. Please rely on the official version of six (https://pypi.org/project/six/).\n",
            "  \"(https://pypi.org/project/six/).\", FutureWarning)\n",
            "/usr/local/lib/python3.7/dist-packages/sklearn/utils/deprecation.py:144: FutureWarning: The sklearn.neighbors.base module is  deprecated in version 0.22 and will be removed in version 0.24. The corresponding classes / functions should instead be imported from sklearn.neighbors. Anything that cannot be imported from sklearn.neighbors is now part of the private API.\n",
            "  warnings.warn(message, FutureWarning)\n"
          ],
          "name": "stderr"
        }
      ]
    },
    {
      "cell_type": "markdown",
      "metadata": {
        "id": "aUo0YLqPmUXU"
      },
      "source": [
        "**Data Preprocessing**\n",
        "\n",
        "The readings from the accelerometers  and  gyroscope  measurements  from  the  lowerlimb are taken in a rate of 40 Hz on theother hand the labels were done in a rate of 10 Hz. Training Dataset was made with data from 8 subjects. Shown for one subject."
      ]
    },
    {
      "cell_type": "code",
      "metadata": {
        "id": "9gwKNzbcnoPz"
      },
      "source": [
        "x_time = pd.read_csv('TrainingData/subject_001_01__x_time.csv', header=None)\n",
        "x = pd.read_csv('TrainingData/subject_001_01__x.csv', header=None)\n",
        "y_time = pd.read_csv('TrainingData/subject_001_01__y_time.csv', header=None)\n",
        "y = pd.read_csv('TrainingData/subject_001_01__y.csv', header=None)"
      ],
      "execution_count": null,
      "outputs": []
    },
    {
      "cell_type": "code",
      "metadata": {
        "id": "ctVnspNVoVBn"
      },
      "source": [
        "x_time_v=x_time.to_numpy()\n",
        "y_time_v = y_time.to_numpy()\n",
        "x_v = x.to_numpy()\n",
        "y_v = y.to_numpy()"
      ],
      "execution_count": null,
      "outputs": []
    },
    {
      "cell_type": "code",
      "metadata": {
        "id": "0QPfei5aohRk"
      },
      "source": [
        "all_y_v = []\n",
        "x_count = 0\n",
        "for i, time in enumerate(y_time_v):\n",
        "    while x_time_v[x_count] < time:\n",
        "        all_y_v.append(y_v[i])\n",
        "        x_count += 1"
      ],
      "execution_count": null,
      "outputs": []
    },
    {
      "cell_type": "markdown",
      "metadata": {
        "id": "SFqIK24-p2Uk"
      },
      "source": [
        "**Data Augmentation:**\n",
        "\n",
        "The final daset has 1341646 samples from 8 subject but the data is imbalanced. For balancing the dataset Synthetic Minority Oversampling Technique (SMOTE) was used to undersample and oversample some classes. [Ref: https://machinelearningmastery.com/multi-class-imbalanced-classification/]"
      ]
    },
    {
      "cell_type": "code",
      "metadata": {
        "colab": {
          "base_uri": "https://localhost:8080/",
          "height": 344
        },
        "id": "akPAyfkqflsE",
        "outputId": "0a8958ac-92d5-4abd-e050-30c170bf51f4"
      },
      "source": [
        "df = pd.read_csv('dataset.csv')\n",
        "df.head\n",
        "y=df['y']\n",
        "X = df.iloc[:,1:-1]\n",
        "#y=df.iloc[:,-1:]\n",
        "counter = Counter(y)\n",
        "\n",
        "for k,v in counter.items():\n",
        "\tper = v / len(y) * 100\n",
        "\tprint('Class=%d, n=%d (%.3f%%)' % (k, v, per))\n",
        "\n",
        "pyplot.bar(counter.keys(), counter.values())\n",
        "pyplot.show()"
      ],
      "execution_count": 4,
      "outputs": [
        {
          "output_type": "stream",
          "text": [
            "Class=0, n=1006926 (75.052%)\n",
            "Class=1, n=55216 (4.116%)\n",
            "Class=2, n=73068 (5.446%)\n",
            "Class=3, n=206436 (15.387%)\n"
          ],
          "name": "stdout"
        },
        {
          "output_type": "display_data",
          "data": {
            "image/png": "[encoded data removed]",
            "text/plain": [
              "<Figure size 432x288 with 1 Axes>"
            ]
          },
          "metadata": {
            "tags": [],
            "needs_background": "light"
          }
        }
      ]
    },
    {
      "cell_type": "code",
      "metadata": {
        "colab": {
          "base_uri": "https://localhost:8080/",
          "height": 387
        },
        "id": "7sUBOMOxMfpO",
        "outputId": "357c11e9-3aec-46e9-8c1c-34631c2aa44c"
      },
      "source": [
        "#X, y = df[:, :-1], df[:, -1]\n",
        "y = LabelEncoder().fit_transform(y)\n",
        "strategy = {1:251732, 2:251731, 3:251731}\n",
        "oversample = SMOTE(sampling_strategy=strategy)\n",
        "#oversample = SMOTE()\n",
        "X, y = oversample.fit_resample(X, y)\n",
        "strategy={0:251732}\n",
        "under = RandomUnderSampler({0:251732})\n",
        "X, y = under.fit_resample(X, y)\n",
        "# summarize distribution\n",
        "counter = Counter(y)\n",
        "#print(counter)\n",
        "for k,v in counter.items():\n",
        "\tper = v / len(y) * 100\n",
        "\tprint('Class=%d, n=%d (%.3f%%)' % (k, v, per))\n",
        "# plot the distribution\n",
        "pyplot.bar(counter.keys(), counter.values())\n",
        "pyplot.show()"
      ],
      "execution_count": 6,
      "outputs": [
        {
          "output_type": "stream",
          "text": [
            "/usr/local/lib/python3.7/dist-packages/sklearn/utils/deprecation.py:87: FutureWarning: Function safe_indexing is deprecated; safe_indexing is deprecated in version 0.22 and will be removed in version 0.24.\n",
            "  warnings.warn(msg, category=FutureWarning)\n"
          ],
          "name": "stderr"
        },
        {
          "output_type": "stream",
          "text": [
            "Class=0, n=251732 (25.000%)\n",
            "Class=1, n=251732 (25.000%)\n",
            "Class=2, n=251731 (25.000%)\n",
            "Class=3, n=251731 (25.000%)\n"
          ],
          "name": "stdout"
        },
        {
          "output_type": "display_data",
          "data": {
            "image/png": "[encoded data removed]",
            "text/plain": [
              "<Figure size 432x288 with 1 Axes>"
            ]
          },
          "metadata": {
            "tags": [],
            "needs_background": "light"
          }
        }
      ]
    },
    {
      "cell_type": "code",
      "metadata": {
        "id": "N4HUDC23UEDd"
      },
      "source": [
        "X_train, X_test, y_train, y_test = train_test_split(X, y, test_size=0.2, random_state=30)"
      ],
      "execution_count": 7,
      "outputs": []
    },
    {
      "cell_type": "code",
      "metadata": {
        "id": "Cv4hjb-dZidK"
      },
      "source": [
        "clf = RandomForestClassifier(max_depth=30, random_state=0)"
      ],
      "execution_count": 10,
      "outputs": []
    },
    {
      "cell_type": "code",
      "metadata": {
        "colab": {
          "base_uri": "https://localhost:8080/"
        },
        "id": "eK0JoKCWtWvh",
        "outputId": "b381de9d-77ca-444e-a926-05577bcac049"
      },
      "source": [
        "clf.fit(X_train, y_train)"
      ],
      "execution_count": 11,
      "outputs": [
        {
          "output_type": "execute_result",
          "data": {
            "text/plain": [
              "RandomForestClassifier(bootstrap=True, ccp_alpha=0.0, class_weight=None,\n",
              "                       criterion='gini', max_depth=30, max_features='auto',\n",
              "                       max_leaf_nodes=None, max_samples=None,\n",
              "                       min_impurity_decrease=0.0, min_impurity_split=None,\n",
              "                       min_samples_leaf=1, min_samples_split=2,\n",
              "                       min_weight_fraction_leaf=0.0, n_estimators=100,\n",
              "                       n_jobs=None, oob_score=False, random_state=0, verbose=0,\n",
              "                       warm_start=False)"
            ]
          },
          "metadata": {
            "tags": []
          },
          "execution_count": 11
        }
      ]
    },
    {
      "cell_type": "code",
      "metadata": {
        "id": "SGRbwB5rI_P7"
      },
      "source": [
        "y_pred = clf.predict(X_test)"
      ],
      "execution_count": 12,
      "outputs": []
    },
    {
      "cell_type": "code",
      "metadata": {
        "colab": {
          "base_uri": "https://localhost:8080/",
          "height": 296
        },
        "id": "AEFTD-pEsWvZ",
        "outputId": "eb498def-1599-430e-f257-18d5f99d1599"
      },
      "source": [
        "plot_confusion_matrix(clf, X_test, y_test)"
      ],
      "execution_count": 13,
      "outputs": [
        {
          "output_type": "execute_result",
          "data": {
            "text/plain": [
              "<sklearn.metrics._plot.confusion_matrix.ConfusionMatrixDisplay at 0x7fb192ccfb50>"
            ]
          },
          "metadata": {
            "tags": []
          },
          "execution_count": 13
        },
        {
          "output_type": "display_data",
          "data": {
            "image/png": "[encoded data removed]",
            "text/plain": [
              "<Figure size 432x288 with 2 Axes>"
            ]
          },
          "metadata": {
            "tags": [],
            "needs_background": "light"
          }
        }
      ]
    },
    {
      "cell_type": "code",
      "metadata": {
        "colab": {
          "base_uri": "https://localhost:8080/",
          "height": 299
        },
        "id": "RUdKcP_BwF93",
        "outputId": "2e01861d-16d3-43a1-9288-46b046a60ad2"
      },
      "source": [
        "plot_confusion_matrix(clf, X_train, y_train)"
      ],
      "execution_count": 16,
      "outputs": [
        {
          "output_type": "execute_result",
          "data": {
            "text/plain": [
              "<sklearn.metrics._plot.confusion_matrix.ConfusionMatrixDisplay at 0x7fb19336dd90>"
            ]
          },
          "metadata": {
            "tags": []
          },
          "execution_count": 16
        },
        {
          "output_type": "display_data",
          "data": {
            "image/png": "[encoded data removed]",
            "text/plain": [
              "<Figure size 432x288 with 2 Axes>"
            ]
          },
          "metadata": {
            "tags": [],
            "needs_background": "light"
          }
        }
      ]
    },
    {
      "cell_type": "code",
      "metadata": {
        "colab": {
          "base_uri": "https://localhost:8080/"
        },
        "id": "m7NIeXFCspa3",
        "outputId": "c7165495-ed0b-47ce-951c-41599578fe7a"
      },
      "source": [
        "accuracy_score(y_test, y_pred)"
      ],
      "execution_count": 19,
      "outputs": [
        {
          "output_type": "execute_result",
          "data": {
            "text/plain": [
              "0.7881729613776529"
            ]
          },
          "metadata": {
            "tags": []
          },
          "execution_count": 19
        }
      ]
    }
  ]
}